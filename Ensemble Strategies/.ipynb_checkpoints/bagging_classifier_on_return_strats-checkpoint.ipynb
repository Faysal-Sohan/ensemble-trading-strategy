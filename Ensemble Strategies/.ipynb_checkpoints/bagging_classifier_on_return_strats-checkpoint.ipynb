{
 "cells": [
  {
   "cell_type": "code",
   "execution_count": 5,
   "id": "90beb109",
   "metadata": {},
   "outputs": [
    {
     "name": "stdout",
     "output_type": "stream",
     "text": [
      "C:\\Users\\shnkh\\Desktop\\Anchorblock-Projects\\ensemble-trading-strategy\n"
     ]
    }
   ],
   "source": [
    "import sys\n",
    "import os\n",
    "root_dir = os.getcwd().replace('\\Ensemble Strategies','')\n",
    "print(root_dir)\n",
    "sys.path.insert(1, root_dir)\n",
    "sys.path.append('../modules/')\n"
   ]
  },
  {
   "cell_type": "code",
   "execution_count": 9,
   "id": "340f8b74-4733-4e4f-b4bc-bb7badddbeca",
   "metadata": {},
   "outputs": [
    {
     "name": "stdout",
     "output_type": "stream",
     "text": [
      "The autoreload extension is already loaded. To reload it, use:\n",
      "  %reload_ext autoreload\n"
     ]
    }
   ],
   "source": [
    "import numpy as np\n",
    "import pandas as pd\n",
    "import indicators as ind\n",
    "import ensemble_trading_strategy as ets\n",
    "import matplotlib.pyplot as plt\n",
    "import pandas_ta as ta\n",
    "import warnings\n",
    "warnings.filterwarnings('ignore')\n",
    "%load_ext autoreload\n",
    "%autoreload 2"
   ]
  },
  {
   "cell_type": "markdown",
   "id": "7ed5df94-2aac-4782-ad28-602bab303ebf",
   "metadata": {},
   "source": [
    "## Reading Stock Price"
   ]
  },
  {
   "cell_type": "code",
   "execution_count": 30,
   "id": "5c304798",
   "metadata": {},
   "outputs": [],
   "source": [
    "X = pd.read_csv('../data/dataset/combined_stocks_data_X.csv')\n",
    "y = pd.read_csv('../data/dataset/combined_stocks_data_y.csv')"
   ]
  },
  {
   "cell_type": "code",
   "execution_count": 31,
   "id": "12bdc182-7c91-4f95-b7e4-b6d42226eac8",
   "metadata": {},
   "outputs": [
    {
     "data": {
      "text/html": [
       "<div>\n",
       "<style scoped>\n",
       "    .dataframe tbody tr th:only-of-type {\n",
       "        vertical-align: middle;\n",
       "    }\n",
       "\n",
       "    .dataframe tbody tr th {\n",
       "        vertical-align: top;\n",
       "    }\n",
       "\n",
       "    .dataframe thead th {\n",
       "        text-align: right;\n",
       "    }\n",
       "</style>\n",
       "<table border=\"1\" class=\"dataframe\">\n",
       "  <thead>\n",
       "    <tr style=\"text-align: right;\">\n",
       "      <th></th>\n",
       "      <th>open</th>\n",
       "      <th>high</th>\n",
       "      <th>low</th>\n",
       "      <th>close</th>\n",
       "      <th>volume</th>\n",
       "      <th>sma_5</th>\n",
       "      <th>sma_10</th>\n",
       "      <th>ema_5</th>\n",
       "      <th>ema_10</th>\n",
       "      <th>rsi_14</th>\n",
       "      <th>cci_16</th>\n",
       "      <th>atr</th>\n",
       "      <th>STOCHk_14_3_3</th>\n",
       "      <th>STOCHd_14_3_3</th>\n",
       "      <th>STOCHRSIk_16_14_3_3</th>\n",
       "      <th>STOCHRSId_16_14_3_3</th>\n",
       "      <th>wpr</th>\n",
       "    </tr>\n",
       "  </thead>\n",
       "  <tbody>\n",
       "    <tr>\n",
       "      <th>0</th>\n",
       "      <td>47.252499</td>\n",
       "      <td>47.382500</td>\n",
       "      <td>46.965000</td>\n",
       "      <td>47.037498</td>\n",
       "      <td>83115200.0</td>\n",
       "      <td>43.874625</td>\n",
       "      <td>43.215111</td>\n",
       "      <td>44.707093</td>\n",
       "      <td>43.297958</td>\n",
       "      <td>68.297758</td>\n",
       "      <td>88.146319</td>\n",
       "      <td>0.942445</td>\n",
       "      <td>95.146824</td>\n",
       "      <td>96.550226</td>\n",
       "      <td>93.405942</td>\n",
       "      <td>96.849873</td>\n",
       "      <td>-7.464701</td>\n",
       "    </tr>\n",
       "    <tr>\n",
       "      <th>1</th>\n",
       "      <td>46.695000</td>\n",
       "      <td>46.767502</td>\n",
       "      <td>46.275002</td>\n",
       "      <td>46.610001</td>\n",
       "      <td>94780800.0</td>\n",
       "      <td>43.977125</td>\n",
       "      <td>43.252361</td>\n",
       "      <td>44.888322</td>\n",
       "      <td>43.370750</td>\n",
       "      <td>64.587712</td>\n",
       "      <td>64.009363</td>\n",
       "      <td>0.931169</td>\n",
       "      <td>91.111864</td>\n",
       "      <td>94.503866</td>\n",
       "      <td>86.227526</td>\n",
       "      <td>92.259048</td>\n",
       "      <td>-13.214506</td>\n",
       "    </tr>\n",
       "    <tr>\n",
       "      <th>2</th>\n",
       "      <td>46.517502</td>\n",
       "      <td>47.115002</td>\n",
       "      <td>46.500000</td>\n",
       "      <td>47.044998</td>\n",
       "      <td>76732400.0</td>\n",
       "      <td>44.106375</td>\n",
       "      <td>43.288972</td>\n",
       "      <td>45.093720</td>\n",
       "      <td>43.451502</td>\n",
       "      <td>66.577252</td>\n",
       "      <td>65.431677</td>\n",
       "      <td>0.911359</td>\n",
       "      <td>90.652321</td>\n",
       "      <td>92.303670</td>\n",
       "      <td>83.733127</td>\n",
       "      <td>87.788865</td>\n",
       "      <td>-7.363830</td>\n",
       "    </tr>\n",
       "    <tr>\n",
       "      <th>3</th>\n",
       "      <td>47.000000</td>\n",
       "      <td>47.227501</td>\n",
       "      <td>46.590000</td>\n",
       "      <td>46.747501</td>\n",
       "      <td>69176000.0</td>\n",
       "      <td>44.283750</td>\n",
       "      <td>43.324083</td>\n",
       "      <td>45.251223</td>\n",
       "      <td>43.523942</td>\n",
       "      <td>63.931824</td>\n",
       "      <td>58.469638</td>\n",
       "      <td>0.894203</td>\n",
       "      <td>89.191507</td>\n",
       "      <td>90.318564</td>\n",
       "      <td>79.658781</td>\n",
       "      <td>83.206478</td>\n",
       "      <td>-11.365134</td>\n",
       "    </tr>\n",
       "    <tr>\n",
       "      <th>4</th>\n",
       "      <td>46.797501</td>\n",
       "      <td>46.952499</td>\n",
       "      <td>46.532501</td>\n",
       "      <td>46.577499</td>\n",
       "      <td>73190800.0</td>\n",
       "      <td>44.541125</td>\n",
       "      <td>43.357361</td>\n",
       "      <td>45.377535</td>\n",
       "      <td>43.591053</td>\n",
       "      <td>62.405834</td>\n",
       "      <td>48.359741</td>\n",
       "      <td>0.864501</td>\n",
       "      <td>88.204577</td>\n",
       "      <td>89.349469</td>\n",
       "      <td>77.605304</td>\n",
       "      <td>80.332404</td>\n",
       "      <td>-13.651644</td>\n",
       "    </tr>\n",
       "  </tbody>\n",
       "</table>\n",
       "</div>"
      ],
      "text/plain": [
       "        open       high        low      close      volume      sma_5  \\\n",
       "0  47.252499  47.382500  46.965000  47.037498  83115200.0  43.874625   \n",
       "1  46.695000  46.767502  46.275002  46.610001  94780800.0  43.977125   \n",
       "2  46.517502  47.115002  46.500000  47.044998  76732400.0  44.106375   \n",
       "3  47.000000  47.227501  46.590000  46.747501  69176000.0  44.283750   \n",
       "4  46.797501  46.952499  46.532501  46.577499  73190800.0  44.541125   \n",
       "\n",
       "      sma_10      ema_5     ema_10     rsi_14     cci_16       atr  \\\n",
       "0  43.215111  44.707093  43.297958  68.297758  88.146319  0.942445   \n",
       "1  43.252361  44.888322  43.370750  64.587712  64.009363  0.931169   \n",
       "2  43.288972  45.093720  43.451502  66.577252  65.431677  0.911359   \n",
       "3  43.324083  45.251223  43.523942  63.931824  58.469638  0.894203   \n",
       "4  43.357361  45.377535  43.591053  62.405834  48.359741  0.864501   \n",
       "\n",
       "   STOCHk_14_3_3  STOCHd_14_3_3  STOCHRSIk_16_14_3_3  STOCHRSId_16_14_3_3  \\\n",
       "0      95.146824      96.550226            93.405942            96.849873   \n",
       "1      91.111864      94.503866            86.227526            92.259048   \n",
       "2      90.652321      92.303670            83.733127            87.788865   \n",
       "3      89.191507      90.318564            79.658781            83.206478   \n",
       "4      88.204577      89.349469            77.605304            80.332404   \n",
       "\n",
       "         wpr  \n",
       "0  -7.464701  \n",
       "1 -13.214506  \n",
       "2  -7.363830  \n",
       "3 -11.365134  \n",
       "4 -13.651644  "
      ]
     },
     "execution_count": 31,
     "metadata": {},
     "output_type": "execute_result"
    }
   ],
   "source": [
    "X.head()"
   ]
  },
  {
   "cell_type": "code",
   "execution_count": 32,
   "id": "8c69872f-9429-49dd-8717-90e6fd2940f3",
   "metadata": {},
   "outputs": [
    {
     "data": {
      "text/html": [
       "<div>\n",
       "<style scoped>\n",
       "    .dataframe tbody tr th:only-of-type {\n",
       "        vertical-align: middle;\n",
       "    }\n",
       "\n",
       "    .dataframe tbody tr th {\n",
       "        vertical-align: top;\n",
       "    }\n",
       "\n",
       "    .dataframe thead th {\n",
       "        text-align: right;\n",
       "    }\n",
       "</style>\n",
       "<table border=\"1\" class=\"dataframe\">\n",
       "  <thead>\n",
       "    <tr style=\"text-align: right;\">\n",
       "      <th></th>\n",
       "      <th>0</th>\n",
       "    </tr>\n",
       "  </thead>\n",
       "  <tbody>\n",
       "    <tr>\n",
       "      <th>0</th>\n",
       "      <td>0</td>\n",
       "    </tr>\n",
       "    <tr>\n",
       "      <th>1</th>\n",
       "      <td>-1</td>\n",
       "    </tr>\n",
       "    <tr>\n",
       "      <th>2</th>\n",
       "      <td>0</td>\n",
       "    </tr>\n",
       "    <tr>\n",
       "      <th>3</th>\n",
       "      <td>0</td>\n",
       "    </tr>\n",
       "    <tr>\n",
       "      <th>4</th>\n",
       "      <td>0</td>\n",
       "    </tr>\n",
       "  </tbody>\n",
       "</table>\n",
       "</div>"
      ],
      "text/plain": [
       "   0\n",
       "0  0\n",
       "1 -1\n",
       "2  0\n",
       "3  0\n",
       "4  0"
      ]
     },
     "execution_count": 32,
     "metadata": {},
     "output_type": "execute_result"
    }
   ],
   "source": [
    "y.head()"
   ]
  },
  {
   "cell_type": "markdown",
   "id": "130f27fb-9c2c-4e0d-a20e-feaf95542fd8",
   "metadata": {},
   "source": [
    "## Adding Features to the stock price"
   ]
  },
  {
   "cell_type": "raw",
   "id": "9fc95016-1f43-486d-8380-be2a5050fd5d",
   "metadata": {},
   "source": [
    "X = ets.add_features(stock_data)"
   ]
  },
  {
   "cell_type": "raw",
   "id": "a94a590f-5adb-455d-a123-0adef5623b58",
   "metadata": {},
   "source": [
    "X.head(20)"
   ]
  },
  {
   "cell_type": "raw",
   "id": "68c681cb-f1ca-440a-92ba-157ff6bfc789",
   "metadata": {},
   "source": [
    "y = ets.get_target_signal_rets(X)\n",
    "y"
   ]
  },
  {
   "cell_type": "raw",
   "id": "3745f292-a1cc-4214-850e-52597075ce08",
   "metadata": {},
   "source": [
    "y.isna().sum()"
   ]
  },
  {
   "cell_type": "markdown",
   "id": "b057b9fb",
   "metadata": {},
   "source": [
    "## Data Preprocessing"
   ]
  },
  {
   "cell_type": "code",
   "execution_count": 33,
   "id": "4a664fed",
   "metadata": {},
   "outputs": [],
   "source": [
    "X_scaled = ets.data_preprocess(X)\n",
    "y = np.array(y)"
   ]
  },
  {
   "cell_type": "code",
   "execution_count": 34,
   "id": "7e497259",
   "metadata": {},
   "outputs": [
    {
     "data": {
      "text/plain": [
       "array([[-0.77378675, -0.7786223 , -0.77077388, -0.77621539,  3.11095405,\n",
       "        -0.8094581 , -0.81408147, -0.80136775, -0.81689613,  1.33935618,\n",
       "         0.69463241, -0.73700642,  1.42998134,  1.52221067,  1.27285017,\n",
       "         1.43037556,  1.24261942],\n",
       "       [-0.77970596, -0.78507369, -0.77820111, -0.78075631,  3.60600062,\n",
       "        -0.80836622, -0.81368144, -0.79943528, -0.81611036,  1.03400234,\n",
       "         0.4745614 , -0.74055741,  1.28808849,  1.44811738,  1.05221782,\n",
       "         1.28391103,  1.05420012],\n",
       "       [-0.78159054, -0.78142838, -0.7757792 , -0.77613572,  2.84009072,\n",
       "        -0.80698938, -0.81328827, -0.79724511, -0.81523867,  1.19775058,\n",
       "         0.48752949, -0.74679543,  1.27192829,  1.36845407,  0.97555118,\n",
       "         1.1412954 ,  1.24592491]])"
      ]
     },
     "execution_count": 34,
     "metadata": {},
     "output_type": "execute_result"
    }
   ],
   "source": [
    "X_scaled[:3]"
   ]
  },
  {
   "cell_type": "markdown",
   "id": "f582b4c2",
   "metadata": {},
   "source": [
    "## Random Forest Classifier"
   ]
  },
  {
   "cell_type": "code",
   "execution_count": 44,
   "id": "f388ce8a",
   "metadata": {},
   "outputs": [
    {
     "name": "stdout",
     "output_type": "stream",
     "text": [
      "Accuracy: 0.7881718169714806\n",
      "Precision: 0.7876364954264163\n",
      "Recall: 0.7881718169714806\n",
      "F1 Score: 0.7878868947465225\n"
     ]
    },
    {
     "data": {
      "image/png": "[encoded data removed]",
      "text/plain": [
       "<Figure size 576x432 with 1 Axes>"
      ]
     },
     "metadata": {
      "needs_background": "light"
     },
     "output_type": "display_data"
    }
   ],
   "source": [
    "ets.train_rfc_model(X_scaled, y, signal_type='returns')"
   ]
  },
  {
   "cell_type": "markdown",
   "id": "fd26618e-3bd3-41fb-ae13-eb064a00ca8e",
   "metadata": {},
   "source": [
    "## Bagging Classifier with LR Estimator"
   ]
  },
  {
   "cell_type": "code",
   "execution_count": 45,
   "id": "76e62e14",
   "metadata": {},
   "outputs": [
    {
     "name": "stdout",
     "output_type": "stream",
     "text": [
      "Accuracy: 0.7762595473337538\n",
      "Precision: 0.7782217257931606\n",
      "Recall: 0.7762595473337538\n",
      "F1 Score: 0.7770896392561943\n"
     ]
    },
    {
     "data": {
      "image/png": "[encoded data removed]",
      "text/plain": [
       "<Figure size 576x432 with 1 Axes>"
      ]
     },
     "metadata": {
      "needs_background": "light"
     },
     "output_type": "display_data"
    }
   ],
   "source": [
    "ets.train_bag_model_with_lr(X_scaled, y, signal_type = 'returns')"
   ]
  },
  {
   "cell_type": "markdown",
   "id": "4e3369e2-f3c5-49e3-8b97-21e28189bf0d",
   "metadata": {},
   "source": [
    "## Bagging Classifier with DTC estimator"
   ]
  },
  {
   "cell_type": "code",
   "execution_count": 46,
   "id": "357916a4",
   "metadata": {},
   "outputs": [
    {
     "name": "stdout",
     "output_type": "stream",
     "text": [
      "Accuracy: 0.7860696517412935\n",
      "Precision: 0.7865876614873422\n",
      "Recall: 0.7860696517412935\n",
      "F1 Score: 0.7863151563927098\n"
     ]
    },
    {
     "data": {
      "image/png": "[encoded data removed]",
      "text/plain": [
       "<Figure size 576x432 with 1 Axes>"
      ]
     },
     "metadata": {
      "needs_background": "light"
     },
     "output_type": "display_data"
    }
   ],
   "source": [
    "ets.train_bag_model_with_dtc(X_scaled, y, signal_type = 'returns')"
   ]
  },
  {
   "cell_type": "code",
   "execution_count": null,
   "id": "97c6f8f9",
   "metadata": {},
   "outputs": [],
   "source": []
  }
 ],
 "metadata": {
  "kernelspec": {
   "display_name": "Python 3 (ipykernel)",
   "language": "python",
   "name": "python3"
  },
  "language_info": {
   "codemirror_mode": {
    "name": "ipython",
    "version": 3
   },
   "file_extension": ".py",
   "mimetype": "text/x-python",
   "name": "python",
   "nbconvert_exporter": "python",
   "pygments_lexer": "ipython3",
   "version": "3.9.7"
  }
 },
 "nbformat": 4,
 "nbformat_minor": 5
}
