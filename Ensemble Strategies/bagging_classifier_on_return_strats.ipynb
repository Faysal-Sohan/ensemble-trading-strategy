{
 "cells": [
  {
   "cell_type": "code",
   "execution_count": 2,
   "id": "90beb109",
   "metadata": {},
   "outputs": [
    {
     "name": "stdout",
     "output_type": "stream",
     "text": [
      "/home/sohan/Desktop/Final_Assesment/Ensemble Strategies\n"
     ]
    }
   ],
   "source": [
    "import sys\n",
    "import os\n",
    "root_dir = os.getcwd()\n",
    "print(root_dir)\n",
    "sys.path.insert(1, root_dir)\n",
    "sys.path.append('../modules/')\n"
   ]
  },
  {
   "cell_type": "code",
   "execution_count": 73,
   "id": "340f8b74-4733-4e4f-b4bc-bb7badddbeca",
   "metadata": {},
   "outputs": [
    {
     "name": "stdout",
     "output_type": "stream",
     "text": [
      "The autoreload extension is already loaded. To reload it, use:\n",
      "  %reload_ext autoreload\n"
     ]
    }
   ],
   "source": [
    "import numpy as np\n",
    "import pandas as pd\n",
    "import indicators as ind\n",
    "import ensemble_trading_strategy as ets\n",
    "import matplotlib.pyplot as plt\n",
    "import pandas_ta as ta\n",
    "import warnings\n",
    "warnings.filterwarnings('ignore')\n",
    "%load_ext autoreload\n",
    "%autoreload 2"
   ]
  },
  {
   "cell_type": "markdown",
   "id": "7ed5df94-2aac-4782-ad28-602bab303ebf",
   "metadata": {},
   "source": [
    "## Reading Stock Price"
   ]
  },
  {
   "cell_type": "code",
   "execution_count": 74,
   "id": "5c304798",
   "metadata": {},
   "outputs": [],
   "source": [
    "X = pd.read_csv('../data/dataset/combined_stocks_data_X.csv')\n",
    "y = pd.read_csv('../data/dataset/combined_stocks_data_y.csv')"
   ]
  },
  {
   "cell_type": "code",
   "execution_count": 75,
   "id": "12bdc182-7c91-4f95-b7e4-b6d42226eac8",
   "metadata": {},
   "outputs": [
    {
     "data": {
      "text/html": [
       "<div>\n",
       "<style scoped>\n",
       "    .dataframe tbody tr th:only-of-type {\n",
       "        vertical-align: middle;\n",
       "    }\n",
       "\n",
       "    .dataframe tbody tr th {\n",
       "        vertical-align: top;\n",
       "    }\n",
       "\n",
       "    .dataframe thead th {\n",
       "        text-align: right;\n",
       "    }\n",
       "</style>\n",
       "<table border=\"1\" class=\"dataframe\">\n",
       "  <thead>\n",
       "    <tr style=\"text-align: right;\">\n",
       "      <th></th>\n",
       "      <th>open</th>\n",
       "      <th>high</th>\n",
       "      <th>low</th>\n",
       "      <th>close</th>\n",
       "      <th>volume</th>\n",
       "      <th>sma_5</th>\n",
       "      <th>sma_10</th>\n",
       "      <th>ema_5</th>\n",
       "      <th>ema_10</th>\n",
       "      <th>MACD_12_26_9</th>\n",
       "      <th>...</th>\n",
       "      <th>BBU_5_2.0</th>\n",
       "      <th>BBB_5_2.0</th>\n",
       "      <th>BBP_5_2.0</th>\n",
       "      <th>cci_16</th>\n",
       "      <th>atr</th>\n",
       "      <th>STOCHk_14_3_3</th>\n",
       "      <th>STOCHd_14_3_3</th>\n",
       "      <th>STOCHRSIk_16_14_3_3</th>\n",
       "      <th>STOCHRSId_16_14_3_3</th>\n",
       "      <th>wpr</th>\n",
       "    </tr>\n",
       "  </thead>\n",
       "  <tbody>\n",
       "    <tr>\n",
       "      <th>0</th>\n",
       "      <td>42.950001</td>\n",
       "      <td>43.487499</td>\n",
       "      <td>42.927502</td>\n",
       "      <td>43.125000</td>\n",
       "      <td>123967600.0</td>\n",
       "      <td>43.042001</td>\n",
       "      <td>41.67050</td>\n",
       "      <td>42.727659</td>\n",
       "      <td>42.218500</td>\n",
       "      <td>-0.224005</td>\n",
       "      <td>...</td>\n",
       "      <td>43.370730</td>\n",
       "      <td>1.527484</td>\n",
       "      <td>0.626243</td>\n",
       "      <td>96.255793</td>\n",
       "      <td>0.991681</td>\n",
       "      <td>87.740700</td>\n",
       "      <td>89.323931</td>\n",
       "      <td>94.288841</td>\n",
       "      <td>95.455570</td>\n",
       "      <td>-9.438597</td>\n",
       "    </tr>\n",
       "    <tr>\n",
       "      <th>1</th>\n",
       "      <td>43.417500</td>\n",
       "      <td>43.912498</td>\n",
       "      <td>43.384998</td>\n",
       "      <td>43.875000</td>\n",
       "      <td>135249600.0</td>\n",
       "      <td>43.167500</td>\n",
       "      <td>42.17925</td>\n",
       "      <td>43.110106</td>\n",
       "      <td>42.519682</td>\n",
       "      <td>-0.072161</td>\n",
       "      <td>...</td>\n",
       "      <td>43.920088</td>\n",
       "      <td>3.486826</td>\n",
       "      <td>0.970045</td>\n",
       "      <td>108.381565</td>\n",
       "      <td>0.978919</td>\n",
       "      <td>91.571601</td>\n",
       "      <td>88.986021</td>\n",
       "      <td>95.980406</td>\n",
       "      <td>94.950683</td>\n",
       "      <td>-0.590295</td>\n",
       "    </tr>\n",
       "    <tr>\n",
       "      <th>2</th>\n",
       "      <td>44.087502</td>\n",
       "      <td>44.847500</td>\n",
       "      <td>44.052502</td>\n",
       "      <td>44.742500</td>\n",
       "      <td>152648800.0</td>\n",
       "      <td>43.494501</td>\n",
       "      <td>42.74325</td>\n",
       "      <td>43.654237</td>\n",
       "      <td>42.923831</td>\n",
       "      <td>0.116829</td>\n",
       "      <td>...</td>\n",
       "      <td>44.950623</td>\n",
       "      <td>6.695660</td>\n",
       "      <td>0.928535</td>\n",
       "      <td>124.071017</td>\n",
       "      <td>0.978518</td>\n",
       "      <td>96.176764</td>\n",
       "      <td>91.829688</td>\n",
       "      <td>98.892672</td>\n",
       "      <td>96.387307</td>\n",
       "      <td>-1.440817</td>\n",
       "    </tr>\n",
       "    <tr>\n",
       "      <th>3</th>\n",
       "      <td>44.775002</td>\n",
       "      <td>45.119999</td>\n",
       "      <td>44.540001</td>\n",
       "      <td>44.597500</td>\n",
       "      <td>155712400.0</td>\n",
       "      <td>43.821500</td>\n",
       "      <td>43.13525</td>\n",
       "      <td>43.968658</td>\n",
       "      <td>43.228134</td>\n",
       "      <td>0.252001</td>\n",
       "      <td>...</td>\n",
       "      <td>45.383372</td>\n",
       "      <td>7.128335</td>\n",
       "      <td>0.748420</td>\n",
       "      <td>112.052327</td>\n",
       "      <td>0.953611</td>\n",
       "      <td>97.019174</td>\n",
       "      <td>94.922513</td>\n",
       "      <td>99.091350</td>\n",
       "      <td>97.988143</td>\n",
       "      <td>-6.911366</td>\n",
       "    </tr>\n",
       "    <tr>\n",
       "      <th>4</th>\n",
       "      <td>44.814999</td>\n",
       "      <td>45.154999</td>\n",
       "      <td>44.512501</td>\n",
       "      <td>44.529999</td>\n",
       "      <td>151128400.0</td>\n",
       "      <td>44.174000</td>\n",
       "      <td>43.47975</td>\n",
       "      <td>44.155772</td>\n",
       "      <td>43.464837</td>\n",
       "      <td>0.349647</td>\n",
       "      <td>...</td>\n",
       "      <td>45.380344</td>\n",
       "      <td>5.461782</td>\n",
       "      <td>0.647553</td>\n",
       "      <td>98.700140</td>\n",
       "      <td>0.934166</td>\n",
       "      <td>94.472905</td>\n",
       "      <td>95.889614</td>\n",
       "      <td>97.420604</td>\n",
       "      <td>98.468209</td>\n",
       "      <td>-8.229101</td>\n",
       "    </tr>\n",
       "  </tbody>\n",
       "</table>\n",
       "<p>5 rows × 28 columns</p>\n",
       "</div>"
      ],
      "text/plain": [
       "        open       high        low      close       volume      sma_5  \\\n",
       "0  42.950001  43.487499  42.927502  43.125000  123967600.0  43.042001   \n",
       "1  43.417500  43.912498  43.384998  43.875000  135249600.0  43.167500   \n",
       "2  44.087502  44.847500  44.052502  44.742500  152648800.0  43.494501   \n",
       "3  44.775002  45.119999  44.540001  44.597500  155712400.0  43.821500   \n",
       "4  44.814999  45.154999  44.512501  44.529999  151128400.0  44.174000   \n",
       "\n",
       "     sma_10      ema_5     ema_10  MACD_12_26_9  ...  BBU_5_2.0  BBB_5_2.0  \\\n",
       "0  41.67050  42.727659  42.218500     -0.224005  ...  43.370730   1.527484   \n",
       "1  42.17925  43.110106  42.519682     -0.072161  ...  43.920088   3.486826   \n",
       "2  42.74325  43.654237  42.923831      0.116829  ...  44.950623   6.695660   \n",
       "3  43.13525  43.968658  43.228134      0.252001  ...  45.383372   7.128335   \n",
       "4  43.47975  44.155772  43.464837      0.349647  ...  45.380344   5.461782   \n",
       "\n",
       "   BBP_5_2.0      cci_16       atr  STOCHk_14_3_3  STOCHd_14_3_3  \\\n",
       "0   0.626243   96.255793  0.991681      87.740700      89.323931   \n",
       "1   0.970045  108.381565  0.978919      91.571601      88.986021   \n",
       "2   0.928535  124.071017  0.978518      96.176764      91.829688   \n",
       "3   0.748420  112.052327  0.953611      97.019174      94.922513   \n",
       "4   0.647553   98.700140  0.934166      94.472905      95.889614   \n",
       "\n",
       "   STOCHRSIk_16_14_3_3  STOCHRSId_16_14_3_3       wpr  \n",
       "0            94.288841            95.455570 -9.438597  \n",
       "1            95.980406            94.950683 -0.590295  \n",
       "2            98.892672            96.387307 -1.440817  \n",
       "3            99.091350            97.988143 -6.911366  \n",
       "4            97.420604            98.468209 -8.229101  \n",
       "\n",
       "[5 rows x 28 columns]"
      ]
     },
     "execution_count": 75,
     "metadata": {},
     "output_type": "execute_result"
    }
   ],
   "source": [
    "X.head()"
   ]
  },
  {
   "cell_type": "code",
   "execution_count": 76,
   "id": "8c69872f-9429-49dd-8717-90e6fd2940f3",
   "metadata": {},
   "outputs": [
    {
     "data": {
      "text/html": [
       "<div>\n",
       "<style scoped>\n",
       "    .dataframe tbody tr th:only-of-type {\n",
       "        vertical-align: middle;\n",
       "    }\n",
       "\n",
       "    .dataframe tbody tr th {\n",
       "        vertical-align: top;\n",
       "    }\n",
       "\n",
       "    .dataframe thead th {\n",
       "        text-align: right;\n",
       "    }\n",
       "</style>\n",
       "<table border=\"1\" class=\"dataframe\">\n",
       "  <thead>\n",
       "    <tr style=\"text-align: right;\">\n",
       "      <th></th>\n",
       "      <th>0</th>\n",
       "    </tr>\n",
       "  </thead>\n",
       "  <tbody>\n",
       "    <tr>\n",
       "      <th>0</th>\n",
       "      <td>0</td>\n",
       "    </tr>\n",
       "    <tr>\n",
       "      <th>1</th>\n",
       "      <td>1</td>\n",
       "    </tr>\n",
       "    <tr>\n",
       "      <th>2</th>\n",
       "      <td>1</td>\n",
       "    </tr>\n",
       "    <tr>\n",
       "      <th>3</th>\n",
       "      <td>1</td>\n",
       "    </tr>\n",
       "    <tr>\n",
       "      <th>4</th>\n",
       "      <td>0</td>\n",
       "    </tr>\n",
       "  </tbody>\n",
       "</table>\n",
       "</div>"
      ],
      "text/plain": [
       "   0\n",
       "0  0\n",
       "1  1\n",
       "2  1\n",
       "3  1\n",
       "4  0"
      ]
     },
     "execution_count": 76,
     "metadata": {},
     "output_type": "execute_result"
    }
   ],
   "source": [
    "y.head()"
   ]
  },
  {
   "cell_type": "code",
   "execution_count": 57,
   "id": "9002b5e8",
   "metadata": {},
   "outputs": [
    {
     "data": {
      "text/plain": [
       "Index(['open', 'high', 'low', 'close', 'volume', 'sma_5', 'sma_10', 'ema_5',\n",
       "       'ema_10', 'MACD_12_26_9', 'MACDh_12_26_9', 'MACDs_12_26_9', 'ADX_14',\n",
       "       'DMP_14', 'DMN_14', 'rsi_14', 'BBL_5_2.0', 'BBM_5_2.0', 'BBU_5_2.0',\n",
       "       'BBB_5_2.0', 'BBP_5_2.0', 'cci_16', 'atr', 'STOCHk_14_3_3',\n",
       "       'STOCHd_14_3_3', 'STOCHRSIk_16_14_3_3', 'STOCHRSId_16_14_3_3', 'wpr'],\n",
       "      dtype='object')"
      ]
     },
     "execution_count": 57,
     "metadata": {},
     "output_type": "execute_result"
    }
   ],
   "source": [
    "X.columns"
   ]
  },
  {
   "cell_type": "code",
   "execution_count": 77,
   "id": "bc1f8237",
   "metadata": {},
   "outputs": [
    {
     "data": {
      "text/plain": [
       "0 \n",
       " 0    29669\n",
       " 1    16025\n",
       "-1    14188\n",
       "Name: count, dtype: int64"
      ]
     },
     "execution_count": 77,
     "metadata": {},
     "output_type": "execute_result"
    }
   ],
   "source": [
    "y.value_counts()"
   ]
  },
  {
   "cell_type": "code",
   "execution_count": 78,
   "id": "2bdcfdc1",
   "metadata": {},
   "outputs": [
    {
     "data": {
      "text/plain": [
       "0    0\n",
       "dtype: int64"
      ]
     },
     "execution_count": 78,
     "metadata": {},
     "output_type": "execute_result"
    }
   ],
   "source": [
    "y.isna().sum()"
   ]
  },
  {
   "cell_type": "code",
   "execution_count": 61,
   "id": "9b1e0031",
   "metadata": {},
   "outputs": [
    {
     "data": {
      "text/plain": [
       "open                   0\n",
       "high                   0\n",
       "low                    0\n",
       "close                  0\n",
       "volume                 0\n",
       "sma_5                  0\n",
       "sma_10                 0\n",
       "ema_5                  0\n",
       "ema_10                 0\n",
       "MACD_12_26_9           0\n",
       "MACDh_12_26_9          0\n",
       "MACDs_12_26_9          0\n",
       "ADX_14                 0\n",
       "DMP_14                 0\n",
       "DMN_14                 0\n",
       "rsi_14                 0\n",
       "BBL_5_2.0              0\n",
       "BBM_5_2.0              0\n",
       "BBU_5_2.0              0\n",
       "BBB_5_2.0              0\n",
       "BBP_5_2.0              0\n",
       "cci_16                 0\n",
       "atr                    0\n",
       "STOCHk_14_3_3          0\n",
       "STOCHd_14_3_3          0\n",
       "STOCHRSIk_16_14_3_3    0\n",
       "STOCHRSId_16_14_3_3    0\n",
       "wpr                    0\n",
       "dtype: int64"
      ]
     },
     "execution_count": 61,
     "metadata": {},
     "output_type": "execute_result"
    }
   ],
   "source": [
    "X.isna().sum()"
   ]
  },
  {
   "cell_type": "markdown",
   "id": "b057b9fb",
   "metadata": {},
   "source": [
    "## Data Preprocessing"
   ]
  },
  {
   "cell_type": "code",
   "execution_count": 79,
   "id": "4a664fed",
   "metadata": {},
   "outputs": [],
   "source": [
    "X_scaled = ets.data_preprocess(X)\n",
    "y = np.array(y)"
   ]
  },
  {
   "cell_type": "code",
   "execution_count": 80,
   "id": "7e497259",
   "metadata": {},
   "outputs": [
    {
     "data": {
      "text/plain": [
       "array([[-0.81364594, -0.81360832, -0.808398  , -0.81191543,  4.82891792,\n",
       "        -0.81278564, -0.82738336, -0.81635344, -0.82192619, -0.10833265,\n",
       "         0.46830002, -0.267369  ,  0.51364133,  0.28065406,  0.57218829,\n",
       "         0.4559768 , -0.80240733, -0.81278564, -0.82133766, -0.85376638,\n",
       "         0.36037033,  0.77098959, -0.71702089,  1.17302664,  1.26526377,\n",
       "         1.296519  ,  1.38319733,  1.18134619],\n",
       "       [-0.80864001, -0.80911201, -0.80343148, -0.80388092,  5.30623295,\n",
       "        -0.81144035, -0.8219259 , -0.81225275, -0.81869367, -0.06709107,\n",
       "         0.48230721, -0.22803762,  0.28684269,  0.50959736,  0.35117089,\n",
       "         0.78077768, -0.80570788, -0.81144035, -0.81563418, -0.50727517,\n",
       "         1.55233171,  0.88179395, -0.72108589,  1.3081579 ,  1.25298599,\n",
       "         1.34862282,  1.36704957,  1.47214563],\n",
       "       [-0.80146569, -0.79922011, -0.79618514, -0.79458766,  6.04235241,\n",
       "        -0.80793505, -0.81587576, -0.80641845, -0.81435602, -0.01576021,\n",
       "         0.51995383, -0.18564934,  0.19496187,  1.20828707,  0.10053999,\n",
       "         1.11029326, -0.80987325, -0.80793505, -0.80493509,  0.06017674,\n",
       "         1.40841934,  1.02516294, -0.7212137 ,  1.47060046,  1.3563091 ,\n",
       "         1.43832682,  1.41299699,  1.44419321]])"
      ]
     },
     "execution_count": 80,
     "metadata": {},
     "output_type": "execute_result"
    }
   ],
   "source": [
    "X_scaled[:3]"
   ]
  },
  {
   "cell_type": "code",
   "execution_count": 71,
   "id": "7720f83e",
   "metadata": {},
   "outputs": [
    {
     "name": "stdout",
     "output_type": "stream",
     "text": [
      "(1224, 28) (1223, 28) (28,)\n"
     ]
    }
   ],
   "source": [
    "X_new = X_scaled[:-1]\n",
    "X_last = X_scaled[-1]\n",
    "print(X_scaled.shape, X_new.shape, X_last.shape)"
   ]
  },
  {
   "cell_type": "code",
   "execution_count": 72,
   "id": "925f7e58",
   "metadata": {},
   "outputs": [
    {
     "data": {
      "text/plain": [
       "array([ 0.62644033,  0.62562006,  0.63901362,  0.65799325, -0.71235613,\n",
       "        0.65156218,  0.69752547,  0.66285931,  0.71305789, -2.19587015,\n",
       "       -1.11864554, -1.98196882, -0.88620052, -1.22776399,  1.0907552 ,\n",
       "       -1.40741672,  0.6557351 ,  0.65156218,  0.64656747, -0.05034833,\n",
       "        0.04949943, -1.00772812,  1.16723558, -1.67841379, -1.82845652,\n",
       "       -0.87154319, -1.25990264, -1.38776469])"
      ]
     },
     "execution_count": 72,
     "metadata": {},
     "output_type": "execute_result"
    }
   ],
   "source": [
    "X_last"
   ]
  },
  {
   "cell_type": "markdown",
   "id": "f582b4c2",
   "metadata": {},
   "source": [
    "## Random Forest Classifier"
   ]
  },
  {
   "cell_type": "code",
   "execution_count": 81,
   "id": "f388ce8a",
   "metadata": {},
   "outputs": [
    {
     "name": "stdout",
     "output_type": "stream",
     "text": [
      "Accuracy: 0.8288023512123439\n",
      "Precision: 0.8291344796540717\n",
      "Recall: 0.8288023512123439\n",
      "F1 Score: 0.82867217026749\n"
     ]
    },
    {
     "data": {
      "image/png": "[encoded data removed]",
      "text/plain": [
       "<Figure size 800x600 with 1 Axes>"
      ]
     },
     "metadata": {},
     "output_type": "display_data"
    }
   ],
   "source": [
    "ets.train_rfc_model(X_scaled, y, signal_type='returns')"
   ]
  },
  {
   "cell_type": "markdown",
   "id": "fd26618e-3bd3-41fb-ae13-eb064a00ca8e",
   "metadata": {},
   "source": [
    "## Bagging Classifier with LR Estimator"
   ]
  },
  {
   "cell_type": "code",
   "execution_count": 82,
   "id": "76e62e14",
   "metadata": {},
   "outputs": [
    {
     "name": "stdout",
     "output_type": "stream",
     "text": [
      "Accuracy: 0.8122369915169327\n",
      "Precision: 0.8130828731083805\n",
      "Recall: 0.8122369915169327\n",
      "F1 Score: 0.812010455664044\n"
     ]
    },
    {
     "data": {
      "image/png": "[encoded data removed]",
      "text/plain": [
       "<Figure size 800x600 with 1 Axes>"
      ]
     },
     "metadata": {},
     "output_type": "display_data"
    }
   ],
   "source": [
    "ets.train_bag_model_with_lr(X_scaled, y, signal_type = 'returns')"
   ]
  },
  {
   "cell_type": "markdown",
   "id": "4e3369e2-f3c5-49e3-8b97-21e28189bf0d",
   "metadata": {},
   "source": [
    "## Bagging Classifier with DTC estimator"
   ]
  },
  {
   "cell_type": "code",
   "execution_count": 66,
   "id": "357916a4",
   "metadata": {},
   "outputs": [
    {
     "name": "stdout",
     "output_type": "stream",
     "text": [
      "Accuracy: 0.7843137254901961\n",
      "Precision: 0.7839952428134129\n",
      "Recall: 0.7843137254901961\n",
      "F1 Score: 0.7841059562016762\n"
     ]
    },
    {
     "data": {
      "image/png": "[encoded data removed]",
      "text/plain": [
       "<Figure size 800x600 with 1 Axes>"
      ]
     },
     "metadata": {},
     "output_type": "display_data"
    }
   ],
   "source": [
    "ets.train_bag_model_with_dtc(X_scaled, y, signal_type = 'returns')"
   ]
  },
  {
   "cell_type": "code",
   "execution_count": null,
   "id": "97c6f8f9",
   "metadata": {},
   "outputs": [],
   "source": []
  },
  {
   "cell_type": "code",
   "execution_count": null,
   "id": "2f3e9640",
   "metadata": {},
   "outputs": [],
   "source": []
  }
 ],
 "metadata": {
  "kernelspec": {
   "display_name": "Python 3 (ipykernel)",
   "language": "python",
   "name": "python3"
  },
  "language_info": {
   "codemirror_mode": {
    "name": "ipython",
    "version": 3
   },
   "file_extension": ".py",
   "mimetype": "text/x-python",
   "name": "python",
   "nbconvert_exporter": "python",
   "pygments_lexer": "ipython3",
   "version": "3.1.0"
  }
 },
 "nbformat": 4,
 "nbformat_minor": 5
}
