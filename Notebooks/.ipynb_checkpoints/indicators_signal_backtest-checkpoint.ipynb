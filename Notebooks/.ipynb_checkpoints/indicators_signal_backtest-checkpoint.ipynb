{
 "cells": [
  {
   "cell_type": "code",
   "execution_count": 1,
   "metadata": {},
   "outputs": [],
   "source": [
    "import sys\n",
    "import os\n",
    "root_dir = os.getcwd().replace('/Notebooks','')\n",
    "sys.path.insert(1, root_dir)\n",
    "sys.path.append('../modules/')\n",
    "import pandas as pd\n",
    "import numpy as np\n",
    "from datetime import datetime as dt\n",
    "import glob\n",
    "from zipline.utils.run_algo import load_extensions\n",
    "from zipline.data import bundles\n",
    "from zipline.data.data_portal import DataPortal\n",
    "from zipline.utils.calendar_utils import get_calendar\n",
    "import os\n",
    "load_extensions(\n",
    "    default=True,\n",
    "    extensions=[],\n",
    "    strict=True,\n",
    "    environ=os.environ,\n",
    ")\n",
    "from zipline.data.bundles import register, unregister\n",
    "from zipline.data.bundles.csvdir import csvdir_equities\n",
    "from zipline.utils.calendar_utils import register_calendar, get_calendar\n",
    "# from exchange_calendars.exchange_calendar_xdse import XDSExchangeCalendar\n",
    "from logbook import (NestedSetup, NullHandler, Logger, StreamHandler, StderrHandler, \n",
    "                     INFO, WARNING, DEBUG, ERROR)\n",
    "from zipline.api import (order, \n",
    "                         record, \n",
    "                         symbol,\n",
    "                         get_datetime,\n",
    "                         order_target_percent,\n",
    "                         order_target_value,\n",
    "                         order_value,\n",
    "                         set_benchmark,\n",
    "                         get_open_orders)\n",
    "from zipline import run_algorithm\n",
    "from zipline.utils.calendar_utils import get_calendar\n",
    "from zipline.api import order_target, record, symbol\n",
    "from pyfolio.tears import create_full_tear_sheet\n",
    "from pyfolio.utils import extract_rets_pos_txn_from_zipline\n",
    "import seaborn as sns\n",
    "import quantstats as qs\n",
    "import yfinance as yf\n",
    "from hurst import compute_Hc, random_walk\n",
    "import warnings\n",
    "warnings.filterwarnings('ignore')"
   ]
  },
  {
   "cell_type": "code",
   "execution_count": 2,
   "metadata": {},
   "outputs": [],
   "source": [
    "import indicators as ind\n",
    "%load_ext autoreload\n",
    "%autoreload 2"
   ]
  },
  {
   "cell_type": "code",
   "execution_count": null,
   "metadata": {},
   "outputs": [],
   "source": [
    "def get_trading_signal(df:pd.DataFrame):\n",
    "    signal_df = ind.EMA(df)"
   ]
  }
 ],
 "metadata": {
  "kernelspec": {
   "display_name": "env31",
   "language": "python",
   "name": "python3"
  },
  "language_info": {
   "codemirror_mode": {
    "name": "ipython",
    "version": 3
   },
   "file_extension": ".py",
   "mimetype": "text/x-python",
   "name": "python",
   "nbconvert_exporter": "python",
   "pygments_lexer": "ipython3",
   "version": "3.10.13"
  }
 },
 "nbformat": 4,
 "nbformat_minor": 2
}
