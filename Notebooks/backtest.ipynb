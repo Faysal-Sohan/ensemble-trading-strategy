{
 "cells": [
  {
   "cell_type": "code",
   "execution_count": 1,
   "metadata": {},
   "outputs": [],
   "source": [
    "import sys\n",
    "import os\n",
    "root_dir = os.getcwd().replace('/Notebooks','')\n",
    "sys.path.insert(1, root_dir)\n",
    "sys.path.append('../modules/')\n",
    "import pandas as pd\n",
    "import numpy as np\n",
    "from datetime import datetime as dt\n",
    "import glob\n",
    "from zipline.utils.run_algo import load_extensions\n",
    "from zipline.data import bundles\n",
    "from zipline.data.data_portal import DataPortal\n",
    "from zipline.utils.calendar_utils import get_calendar\n",
    "import os\n",
    "load_extensions(\n",
    "    default=True,\n",
    "    extensions=[],\n",
    "    strict=True,\n",
    "    environ=os.environ,\n",
    ")\n",
    "from zipline.data.bundles import register, unregister\n",
    "from zipline.data.bundles.csvdir import csvdir_equities\n",
    "from zipline.utils.calendar_utils import register_calendar, get_calendar\n",
    "# from exchange_calendars.exchange_calendar_xdse import XDSExchangeCalendar\n",
    "from logbook import (NestedSetup, NullHandler, Logger, StreamHandler, StderrHandler, \n",
    "                     INFO, WARNING, DEBUG, ERROR)\n",
    "from zipline.api import (order, \n",
    "                         record, \n",
    "                         symbol,\n",
    "                         get_datetime,\n",
    "                         order_target_percent,\n",
    "                         order_target_value,\n",
    "                         order_value,\n",
    "                         set_benchmark,\n",
    "                         get_open_orders)\n",
    "from zipline import run_algorithm\n",
    "from zipline.utils.calendar_utils import get_calendar\n",
    "from zipline.api import order_target, record, symbol\n",
    "from pyfolio.tears import create_full_tear_sheet\n",
    "from pyfolio.utils import extract_rets_pos_txn_from_zipline\n",
    "import seaborn as sns\n",
    "import quantstats as qs\n",
    "import yfinance as yf\n",
    "from hurst import compute_Hc, random_walk\n",
    "import warnings\n",
    "warnings.filterwarnings('ignore')\n",
    "import ensemble_trading_strategy as ets\n",
    "%load_ext autoreload\n",
    "%autoreload 2"
   ]
  },
  {
   "cell_type": "markdown",
   "metadata": {},
   "source": [
    "## Signal on positive returns and negative returns"
   ]
  },
  {
   "cell_type": "code",
   "execution_count": 2,
   "metadata": {},
   "outputs": [],
   "source": [
    "def get_signal(df:pd.DataFrame,periods=2):\n",
    "    \"\"\"\n",
    "    this function receives a dataframe and calculte returns\n",
    "    if the return is higher than 2 percent then it sends 1 as sell signal \n",
    "    and if the return is less than 2 percent then it sends -1 as buy signal\n",
    "    otherwise it sends 0 as hold signal\n",
    "    \"\"\"\n",
    "    returns = df.close.pct_change(periods=2).mul(100)\n",
    "    signals = np.where(returns > 2,-1,0)\n",
    "    signals = np.where(returns < -2, 1, returns)\n",
    "    return signals[-1]"
   ]
  },
  {
   "cell_type": "code",
   "execution_count": 3,
   "metadata": {},
   "outputs": [],
   "source": [
    "start = '2018-01-01'\n",
    "end = '2023-01-01'\n",
    "capital_base = 10000\n",
    "calendar = get_calendar('NYSE')\n",
    "symb = \"AAPL\"\n",
    "bundle_data = bundles.load(\"sp50\")\n",
    "window = 90\n",
    "\n",
    "def initialize(context):\n",
    "    context.i = 0\n",
    "    sids = bundle_data.asset_finder.sids\n",
    "    context.assets = [symbol(symb)]\n",
    "\n",
    "\n",
    "def handle_data(context, data):\n",
    "    # Skip first 90 days to get full windows\n",
    "    context.i += 1\n",
    "    if context.i < window+1:\n",
    "        return\n",
    "    \n",
    "    for asset in context.assets:\n",
    "        df = data.history(asset,['open','high','low','close','volume'],bar_count=window,frequency='1d')\n",
    "        curr_price = data.current(asset,'price')\n",
    "        signal = ets.group3_ensemble_model_signals(df)\n",
    "        # signal = get_signal(df)\n",
    "\n",
    "        if signal == 1:\n",
    "            order_target_percent(asset, 0.2)\n",
    "        elif signal == -1:\n",
    "            order_target_percent(asset, 0,stop_price=(curr_price * 0.9))\n",
    "        else:\n",
    "            pass\n",
    "    \n",
    "\n",
    "result = run_algorithm(start=pd.Timestamp(start),\n",
    "                        end=pd.Timestamp(end),\n",
    "                        initialize=initialize,\n",
    "                        handle_data=handle_data,\n",
    "                        capital_base=capital_base,\n",
    "                        trading_calendar=calendar,\n",
    "                        bundle='sp50',\n",
    "                        data_frequency='daily',\n",
    "                        )\n"
   ]
  },
  {
   "cell_type": "code",
   "execution_count": 4,
   "metadata": {},
   "outputs": [
    {
     "name": "stdout",
     "output_type": "stream",
     "text": [
      "[*********************100%%**********************]  1 of 1 completed\n"
     ]
    },
    {
     "data": {
      "text/html": [
       "<h4>Performance Metrics</h4>"
      ],
      "text/plain": [
       "<IPython.core.display.HTML object>"
      ]
     },
     "metadata": {},
     "output_type": "display_data"
    },
    {
     "ename": "ValueError",
     "evalue": "Cannot calculate a linear regression if all x values are identical",
     "output_type": "error",
     "traceback": [
      "\u001b[0;31m---------------------------------------------------------------------------\u001b[0m",
      "\u001b[0;31mValueError\u001b[0m                                Traceback (most recent call last)",
      "Cell \u001b[0;32mIn[4], line 6\u001b[0m\n\u001b[1;32m      4\u001b[0m result\u001b[38;5;241m.\u001b[39mindex \u001b[38;5;241m=\u001b[39m pd\u001b[38;5;241m.\u001b[39mto_datetime(result\u001b[38;5;241m.\u001b[39mindex)\u001b[38;5;241m.\u001b[39mtz_convert(\u001b[38;5;28;01mNone\u001b[39;00m)\n\u001b[1;32m      5\u001b[0m result\u001b[38;5;241m.\u001b[39mindex \u001b[38;5;241m=\u001b[39m benchmark\u001b[38;5;241m.\u001b[39mindex    \n\u001b[0;32m----> 6\u001b[0m \u001b[43mqs\u001b[49m\u001b[38;5;241;43m.\u001b[39;49m\u001b[43mreports\u001b[49m\u001b[38;5;241;43m.\u001b[39;49m\u001b[43mfull\u001b[49m\u001b[43m(\u001b[49m\u001b[43mresult\u001b[49m\u001b[43m[\u001b[49m\u001b[38;5;124;43m'\u001b[39;49m\u001b[38;5;124;43mreturns\u001b[39;49m\u001b[38;5;124;43m'\u001b[39;49m\u001b[43m]\u001b[49m\u001b[43m,\u001b[49m\u001b[43m \u001b[49m\u001b[43mbenchmark\u001b[49m\u001b[43m \u001b[49m\u001b[38;5;241;43m=\u001b[39;49m\u001b[43m \u001b[49m\u001b[43mbenchmark\u001b[49m\u001b[43m,\u001b[49m\u001b[43m \u001b[49m\u001b[43mmatch_dates\u001b[49m\u001b[38;5;241;43m=\u001b[39;49m\u001b[38;5;28;43;01mTrue\u001b[39;49;00m\u001b[43m,\u001b[49m\u001b[43m \u001b[49m\u001b[43mfigsize\u001b[49m\u001b[38;5;241;43m=\u001b[39;49m\u001b[43m(\u001b[49m\u001b[38;5;241;43m8\u001b[39;49m\u001b[43m,\u001b[49m\u001b[43m \u001b[49m\u001b[38;5;241;43m4\u001b[39;49m\u001b[43m)\u001b[49m\u001b[43m,\u001b[49m\u001b[43m \u001b[49m\u001b[43mdf\u001b[49m\u001b[43m \u001b[49m\u001b[38;5;241;43m=\u001b[39;49m\u001b[43m \u001b[49m\u001b[43mresult\u001b[49m\u001b[43m)\u001b[49m\n",
      "File \u001b[0;32m~/anaconda3/envs/env31/lib/python3.10/site-packages/quantstats/reports.py:746\u001b[0m, in \u001b[0;36mfull\u001b[0;34m(returns, precost_returns, postcost_returns, benchmark, rf, grayscale, figsize, display, compounded, periods_per_year, match_dates, df, type, **kwargs)\u001b[0m\n\u001b[1;32m    743\u001b[0m \u001b[38;5;28;01mif\u001b[39;00m _utils\u001b[38;5;241m.\u001b[39m_in_notebook():\n\u001b[1;32m    744\u001b[0m     iDisplay(iHTML(\u001b[38;5;124m\"\u001b[39m\u001b[38;5;124m<h4>Performance Metrics</h4>\u001b[39m\u001b[38;5;124m\"\u001b[39m))\n\u001b[1;32m    745\u001b[0m     iDisplay(\n\u001b[0;32m--> 746\u001b[0m         \u001b[43mmetrics\u001b[49m\u001b[43m(\u001b[49m\n\u001b[1;32m    747\u001b[0m \u001b[43m            \u001b[49m\u001b[43mreturns\u001b[49m\u001b[38;5;241;43m=\u001b[39;49m\u001b[43mreturns\u001b[49m\u001b[43m,\u001b[49m\n\u001b[1;32m    748\u001b[0m \u001b[43m            \u001b[49m\u001b[43mprecost_returns\u001b[49m\u001b[38;5;241;43m=\u001b[39;49m\u001b[43mprecost_returns\u001b[49m\u001b[43m,\u001b[49m\n\u001b[1;32m    749\u001b[0m \u001b[43m            \u001b[49m\u001b[43mpostcost_returns\u001b[49m\u001b[38;5;241;43m=\u001b[39;49m\u001b[43mpostcost_returns\u001b[49m\u001b[43m,\u001b[49m\n\u001b[1;32m    750\u001b[0m \u001b[43m            \u001b[49m\u001b[43mbenchmark\u001b[49m\u001b[38;5;241;43m=\u001b[39;49m\u001b[43mbenchmark\u001b[49m\u001b[43m,\u001b[49m\n\u001b[1;32m    751\u001b[0m \u001b[43m            \u001b[49m\u001b[43mrf\u001b[49m\u001b[38;5;241;43m=\u001b[39;49m\u001b[43mrf\u001b[49m\u001b[43m,\u001b[49m\n\u001b[1;32m    752\u001b[0m \u001b[43m            \u001b[49m\u001b[43mdisplay\u001b[49m\u001b[38;5;241;43m=\u001b[39;49m\u001b[43mdisplay\u001b[49m\u001b[43m,\u001b[49m\n\u001b[1;32m    753\u001b[0m \u001b[43m            \u001b[49m\u001b[43mmode\u001b[49m\u001b[38;5;241;43m=\u001b[39;49m\u001b[38;5;124;43m\"\u001b[39;49m\u001b[38;5;124;43mfull\u001b[39;49m\u001b[38;5;124;43m\"\u001b[39;49m\u001b[43m,\u001b[49m\n\u001b[1;32m    754\u001b[0m \u001b[43m            \u001b[49m\u001b[43mcompounded\u001b[49m\u001b[38;5;241;43m=\u001b[39;49m\u001b[43mcompounded\u001b[49m\u001b[43m,\u001b[49m\n\u001b[1;32m    755\u001b[0m \u001b[43m            \u001b[49m\u001b[43mperiods_per_year\u001b[49m\u001b[38;5;241;43m=\u001b[39;49m\u001b[43mperiods_per_year\u001b[49m\u001b[43m,\u001b[49m\n\u001b[1;32m    756\u001b[0m \u001b[43m            \u001b[49m\u001b[43mprepare_returns\u001b[49m\u001b[38;5;241;43m=\u001b[39;49m\u001b[38;5;28;43;01mFalse\u001b[39;49;00m\u001b[43m,\u001b[49m\n\u001b[1;32m    757\u001b[0m \u001b[43m            \u001b[49m\u001b[43mbenchmark_title\u001b[49m\u001b[38;5;241;43m=\u001b[39;49m\u001b[43mbenchmark_title\u001b[49m\u001b[43m,\u001b[49m\n\u001b[1;32m    758\u001b[0m \u001b[43m            \u001b[49m\u001b[43mstrategy_title\u001b[49m\u001b[38;5;241;43m=\u001b[39;49m\u001b[43mstrategy_title\u001b[49m\u001b[43m,\u001b[49m\n\u001b[1;32m    759\u001b[0m \u001b[43m            \u001b[49m\u001b[38;5;28;43mtype\u001b[39;49m\u001b[38;5;241;43m=\u001b[39;49m\u001b[38;5;28;43mtype\u001b[39;49m\u001b[43m,\u001b[49m\n\u001b[1;32m    760\u001b[0m \u001b[43m        \u001b[49m\u001b[43m)\u001b[49m\n\u001b[1;32m    761\u001b[0m     )\n\u001b[1;32m    762\u001b[0m     \u001b[38;5;28mprint\u001b[39m(\u001b[38;5;124m\"\u001b[39m\u001b[38;5;130;01m\\n\u001b[39;00m\u001b[38;5;124m\"\u001b[39m)\n\u001b[1;32m    763\u001b[0m     \u001b[38;5;28;01mif\u001b[39;00m \u001b[38;5;28mtype\u001b[39m \u001b[38;5;241m==\u001b[39m \u001b[38;5;28;01mNone\u001b[39;00m:\n",
      "File \u001b[0;32m~/anaconda3/envs/env31/lib/python3.10/site-packages/quantstats/reports.py:1299\u001b[0m, in \u001b[0;36mmetrics\u001b[0;34m(returns, precost_returns, postcost_returns, benchmark, rf, display, mode, sep, compounded, periods_per_year, prepare_returns, match_dates, type, **kwargs)\u001b[0m\n\u001b[1;32m   1296\u001b[0m     metrics[\u001b[38;5;124m\"\u001b[39m\u001b[38;5;124mVolatility (ann.) \u001b[39m\u001b[38;5;124m%\u001b[39m\u001b[38;5;124m\"\u001b[39m] \u001b[38;5;241m=\u001b[39m vol_\n\u001b[1;32m   1298\u001b[0m \u001b[38;5;28;01mif\u001b[39;00m \u001b[38;5;28misinstance\u001b[39m(returns, _pd\u001b[38;5;241m.\u001b[39mSeries):\n\u001b[0;32m-> 1299\u001b[0m     metrics[\u001b[38;5;124m\"\u001b[39m\u001b[38;5;124mR^2\u001b[39m\u001b[38;5;124m\"\u001b[39m] \u001b[38;5;241m=\u001b[39m \u001b[43m_stats\u001b[49m\u001b[38;5;241;43m.\u001b[39;49m\u001b[43mr_squared\u001b[49m\u001b[43m(\u001b[49m\n\u001b[1;32m   1300\u001b[0m \u001b[43m        \u001b[49m\u001b[43mdf\u001b[49m\u001b[43m[\u001b[49m\u001b[38;5;124;43m\"\u001b[39;49m\u001b[38;5;124;43mreturns\u001b[39;49m\u001b[38;5;124;43m\"\u001b[39;49m\u001b[43m]\u001b[49m\u001b[43m,\u001b[49m\u001b[43m \u001b[49m\u001b[43mdf\u001b[49m\u001b[43m[\u001b[49m\u001b[38;5;124;43m\"\u001b[39;49m\u001b[38;5;124;43mbenchmark\u001b[39;49m\u001b[38;5;124;43m\"\u001b[39;49m\u001b[43m]\u001b[49m\u001b[43m,\u001b[49m\u001b[43m \u001b[49m\u001b[43mprepare_returns\u001b[49m\u001b[38;5;241;43m=\u001b[39;49m\u001b[38;5;28;43;01mFalse\u001b[39;49;00m\n\u001b[1;32m   1301\u001b[0m \u001b[43m    \u001b[49m\u001b[43m)\u001b[49m\n\u001b[1;32m   1303\u001b[0m \u001b[38;5;28;01melif\u001b[39;00m \u001b[38;5;28misinstance\u001b[39m(returns, _pd\u001b[38;5;241m.\u001b[39mDataFrame):\n\u001b[1;32m   1304\u001b[0m     metrics[\u001b[38;5;124m\"\u001b[39m\u001b[38;5;124mR^2\u001b[39m\u001b[38;5;124m\"\u001b[39m] \u001b[38;5;241m=\u001b[39m (\n\u001b[1;32m   1305\u001b[0m         [\n\u001b[1;32m   1306\u001b[0m             _stats\u001b[38;5;241m.\u001b[39mr_squared(\n\u001b[0;32m   (...)\u001b[0m\n\u001b[1;32m   1310\u001b[0m         ]\n\u001b[1;32m   1311\u001b[0m     ) \u001b[38;5;241m+\u001b[39m [\u001b[38;5;124m\"\u001b[39m\u001b[38;5;124m-\u001b[39m\u001b[38;5;124m\"\u001b[39m]\n",
      "File \u001b[0;32m~/anaconda3/envs/env31/lib/python3.10/site-packages/quantstats/stats.py:893\u001b[0m, in \u001b[0;36mr_squared\u001b[0;34m(returns, benchmark, prepare_returns)\u001b[0m\n\u001b[1;32m    891\u001b[0m \u001b[38;5;28;01mif\u001b[39;00m prepare_returns:\n\u001b[1;32m    892\u001b[0m     returns \u001b[38;5;241m=\u001b[39m _utils\u001b[38;5;241m.\u001b[39m_prepare_returns(returns)\n\u001b[0;32m--> 893\u001b[0m _, _, r_val, _, _ \u001b[38;5;241m=\u001b[39m \u001b[43m_linregress\u001b[49m\u001b[43m(\u001b[49m\n\u001b[1;32m    894\u001b[0m \u001b[43m    \u001b[49m\u001b[43mreturns\u001b[49m\u001b[43m,\u001b[49m\u001b[43m \u001b[49m\u001b[43m_utils\u001b[49m\u001b[38;5;241;43m.\u001b[39;49m\u001b[43m_prepare_benchmark\u001b[49m\u001b[43m(\u001b[49m\u001b[43mbenchmark\u001b[49m\u001b[43m,\u001b[49m\u001b[43m \u001b[49m\u001b[43mreturns\u001b[49m\u001b[38;5;241;43m.\u001b[39;49m\u001b[43mindex\u001b[49m\u001b[43m)\u001b[49m\n\u001b[1;32m    895\u001b[0m \u001b[43m\u001b[49m\u001b[43m)\u001b[49m\n\u001b[1;32m    896\u001b[0m \u001b[38;5;28;01mreturn\u001b[39;00m r_val\u001b[38;5;241m*\u001b[39m\u001b[38;5;241m*\u001b[39m\u001b[38;5;241m2\u001b[39m\n",
      "File \u001b[0;32m~/anaconda3/envs/env31/lib/python3.10/site-packages/scipy/stats/_stats_mstats_common.py:157\u001b[0m, in \u001b[0;36mlinregress\u001b[0;34m(x, y, alternative)\u001b[0m\n\u001b[1;32m    154\u001b[0m     \u001b[38;5;28;01mraise\u001b[39;00m \u001b[38;5;167;01mValueError\u001b[39;00m(\u001b[38;5;124m\"\u001b[39m\u001b[38;5;124mInputs must not be empty.\u001b[39m\u001b[38;5;124m\"\u001b[39m)\n\u001b[1;32m    156\u001b[0m \u001b[38;5;28;01mif\u001b[39;00m np\u001b[38;5;241m.\u001b[39mamax(x) \u001b[38;5;241m==\u001b[39m np\u001b[38;5;241m.\u001b[39mamin(x) \u001b[38;5;129;01mand\u001b[39;00m \u001b[38;5;28mlen\u001b[39m(x) \u001b[38;5;241m>\u001b[39m \u001b[38;5;241m1\u001b[39m:\n\u001b[0;32m--> 157\u001b[0m     \u001b[38;5;28;01mraise\u001b[39;00m \u001b[38;5;167;01mValueError\u001b[39;00m(\u001b[38;5;124m\"\u001b[39m\u001b[38;5;124mCannot calculate a linear regression \u001b[39m\u001b[38;5;124m\"\u001b[39m\n\u001b[1;32m    158\u001b[0m                      \u001b[38;5;124m\"\u001b[39m\u001b[38;5;124mif all x values are identical\u001b[39m\u001b[38;5;124m\"\u001b[39m)\n\u001b[1;32m    160\u001b[0m n \u001b[38;5;241m=\u001b[39m \u001b[38;5;28mlen\u001b[39m(x)\n\u001b[1;32m    161\u001b[0m xmean \u001b[38;5;241m=\u001b[39m np\u001b[38;5;241m.\u001b[39mmean(x, \u001b[38;5;28;01mNone\u001b[39;00m)\n",
      "\u001b[0;31mValueError\u001b[0m: Cannot calculate a linear regression if all x values are identical"
     ]
    }
   ],
   "source": [
    "start = result.index[0]\n",
    "end = result.index[-1]\n",
    "benchmark = yf.download('^GSPC', start=start, end=end)['Adj Close'].pct_change()\n",
    "result.index = pd.to_datetime(result.index).tz_convert(None)\n",
    "result.index = benchmark.index    \n",
    "qs.reports.full(result['returns'], benchmark = benchmark, match_dates=True, figsize=(8, 4), df = result)"
   ]
  },
  {
   "cell_type": "code",
   "execution_count": null,
   "metadata": {},
   "outputs": [],
   "source": []
  }
 ],
 "metadata": {
  "kernelspec": {
   "display_name": "Python 3 (ipykernel)",
   "language": "python",
   "name": "python3"
  },
  "language_info": {
   "codemirror_mode": {
    "name": "ipython",
    "version": 3
   },
   "file_extension": ".py",
   "mimetype": "text/x-python",
   "name": "python",
   "nbconvert_exporter": "python",
   "pygments_lexer": "ipython3",
   "version": "3.10.13"
  }
 },
 "nbformat": 4,
 "nbformat_minor": 4
}
