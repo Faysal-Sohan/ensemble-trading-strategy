{
 "cells": [
  {
   "cell_type": "markdown",
   "metadata": {},
   "source": [
    "## Import Necessary Libraries"
   ]
  },
  {
   "cell_type": "code",
   "execution_count": 1,
   "metadata": {},
   "outputs": [],
   "source": [
    "import sys\n",
    "import os\n",
    "root_dir = os.getcwd()\n",
    "sys.path.insert(1, root_dir)\n",
    "sys.path.append('../modules/')\n",
    "import pandas as pd\n",
    "import numpy as np\n",
    "import ensemble_trading_strategy as ets"
   ]
  },
  {
   "cell_type": "code",
   "execution_count": 8,
   "metadata": {},
   "outputs": [],
   "source": [
    "# filtering warnings\n",
    "import warnings\n",
    "warnings.filterwarnings('ignore')"
   ]
  },
  {
   "cell_type": "markdown",
   "metadata": {},
   "source": [
    "## Load a stock price dataframe"
   ]
  },
  {
   "cell_type": "code",
   "execution_count": 2,
   "metadata": {},
   "outputs": [
    {
     "data": {
      "text/html": [
       "<div>\n",
       "<style scoped>\n",
       "    .dataframe tbody tr th:only-of-type {\n",
       "        vertical-align: middle;\n",
       "    }\n",
       "\n",
       "    .dataframe tbody tr th {\n",
       "        vertical-align: top;\n",
       "    }\n",
       "\n",
       "    .dataframe thead th {\n",
       "        text-align: right;\n",
       "    }\n",
       "</style>\n",
       "<table border=\"1\" class=\"dataframe\">\n",
       "  <thead>\n",
       "    <tr style=\"text-align: right;\">\n",
       "      <th></th>\n",
       "      <th>date</th>\n",
       "      <th>open</th>\n",
       "      <th>high</th>\n",
       "      <th>low</th>\n",
       "      <th>close</th>\n",
       "      <th>volume</th>\n",
       "    </tr>\n",
       "  </thead>\n",
       "  <tbody>\n",
       "    <tr>\n",
       "      <th>0</th>\n",
       "      <td>2018-01-02 00:00:00.000000</td>\n",
       "      <td>52.651001</td>\n",
       "      <td>53.799000</td>\n",
       "      <td>52.651001</td>\n",
       "      <td>53.660500</td>\n",
       "      <td>31766000.0</td>\n",
       "    </tr>\n",
       "    <tr>\n",
       "      <th>1</th>\n",
       "      <td>2018-01-03 00:00:00.000000</td>\n",
       "      <td>53.696499</td>\n",
       "      <td>54.805000</td>\n",
       "      <td>53.671501</td>\n",
       "      <td>54.576000</td>\n",
       "      <td>31318000.0</td>\n",
       "    </tr>\n",
       "    <tr>\n",
       "      <th>2</th>\n",
       "      <td>2018-01-04 00:00:00.000000</td>\n",
       "      <td>54.854500</td>\n",
       "      <td>55.203999</td>\n",
       "      <td>54.713001</td>\n",
       "      <td>54.787998</td>\n",
       "      <td>26052000.0</td>\n",
       "    </tr>\n",
       "    <tr>\n",
       "      <th>3</th>\n",
       "      <td>2018-01-05 00:00:00.000000</td>\n",
       "      <td>55.172501</td>\n",
       "      <td>55.679001</td>\n",
       "      <td>55.090000</td>\n",
       "      <td>55.514500</td>\n",
       "      <td>30250000.0</td>\n",
       "    </tr>\n",
       "    <tr>\n",
       "      <th>4</th>\n",
       "      <td>2018-01-08 00:00:00.000000</td>\n",
       "      <td>55.549999</td>\n",
       "      <td>55.958000</td>\n",
       "      <td>55.500000</td>\n",
       "      <td>55.710499</td>\n",
       "      <td>24644000.0</td>\n",
       "    </tr>\n",
       "  </tbody>\n",
       "</table>\n",
       "</div>"
      ],
      "text/plain": [
       "                         date       open       high        low      close  \\\n",
       "0  2018-01-02 00:00:00.000000  52.651001  53.799000  52.651001  53.660500   \n",
       "1  2018-01-03 00:00:00.000000  53.696499  54.805000  53.671501  54.576000   \n",
       "2  2018-01-04 00:00:00.000000  54.854500  55.203999  54.713001  54.787998   \n",
       "3  2018-01-05 00:00:00.000000  55.172501  55.679001  55.090000  55.514500   \n",
       "4  2018-01-08 00:00:00.000000  55.549999  55.958000  55.500000  55.710499   \n",
       "\n",
       "       volume  \n",
       "0  31766000.0  \n",
       "1  31318000.0  \n",
       "2  26052000.0  \n",
       "3  30250000.0  \n",
       "4  24644000.0  "
      ]
     },
     "execution_count": 2,
     "metadata": {},
     "output_type": "execute_result"
    }
   ],
   "source": [
    "stock_price = pd.read_csv(\"../data/S & P 50/GOOGL.csv\")\n",
    "stock_price.head()"
   ]
  },
  {
   "cell_type": "markdown",
   "metadata": {},
   "source": [
    "### To generate trading signal, dataframe should contain at least 35 days historical stock price data"
   ]
  },
  {
   "cell_type": "code",
   "execution_count": 21,
   "metadata": {},
   "outputs": [],
   "source": [
    "# Getting last 30 day prices\n",
    "df = stock_price.tail(35)"
   ]
  },
  {
   "cell_type": "markdown",
   "metadata": {},
   "source": [
    "## Get signal from ensemble trading signal module"
   ]
  },
  {
   "cell_type": "code",
   "execution_count": 22,
   "metadata": {},
   "outputs": [
    {
     "data": {
      "text/plain": [
       "0"
      ]
     },
     "execution_count": 22,
     "metadata": {},
     "output_type": "execute_result"
    }
   ],
   "source": [
    "signal = ets.group3_ensemble_model_signals(df)\n",
    "signal"
   ]
  }
 ],
 "metadata": {
  "kernelspec": {
   "display_name": "env31",
   "language": "python",
   "name": "python3"
  },
  "language_info": {
   "codemirror_mode": {
    "name": "ipython",
    "version": 3
   },
   "file_extension": ".py",
   "mimetype": "text/x-python",
   "name": "python",
   "nbconvert_exporter": "python",
   "pygments_lexer": "ipython3",
   "version": "3.10.13"
  }
 },
 "nbformat": 4,
 "nbformat_minor": 2
}
